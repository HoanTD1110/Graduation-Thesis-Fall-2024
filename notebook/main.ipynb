{
 "cells": [
  {
   "cell_type": "code",
   "execution_count": 1,
   "id": "260a4117-2c0d-4c71-b485-9a3efe4e8e86",
   "metadata": {},
   "outputs": [],
   "source": [
    "from answer import answering, insert\n",
    "import chromadb\n",
    "from insert import get_doc_insert\n",
    "from tqdm.notebook import tqdm"
   ]
  },
  {
   "cell_type": "code",
   "execution_count": 1,
   "id": "208d1c5b-fd7c-474d-9fae-cf531ba2cefc",
   "metadata": {},
   "outputs": [],
   "source": [
    "# insert()"
   ]
  },
  {
   "cell_type": "code",
   "execution_count": 3,
   "id": "a50879cb-11c9-4e1e-8dd6-dc3ec1fcd2f4",
   "metadata": {},
   "outputs": [
    {
     "name": "stderr",
     "output_type": "stream",
     "text": [
      "huggingface/tokenizers: The current process just got forked, after parallelism has already been used. Disabling parallelism to avoid deadlocks...\n",
      "To disable this warning, you can either:\n",
      "\t- Avoid using `tokenizers` before the fork if possible\n",
      "\t- Explicitly set the environment variable TOKENIZERS_PARALLELISM=(true | false)\n"
     ]
    }
   ],
   "source": [
    "ans, data = answering(\"bạn có thể chọn bừa một quán từ 2 quán trên cho tôi được không?\")"
   ]
  },
  {
   "cell_type": "code",
   "execution_count": 4,
   "id": "325792c5-46f2-4b09-8cd9-4179f616f23a",
   "metadata": {},
   "outputs": [
    {
     "name": "stdout",
     "output_type": "stream",
     "text": [
      "Tôi không thể chọn một quán bữa từ hai quán trên vì không có đủ thông tin để so sánh hoặc đưa ra lời khuyên.\n"
     ]
    }
   ],
   "source": [
    "print(ans)"
   ]
  },
  {
   "cell_type": "code",
   "execution_count": null,
   "id": "0a002280-5b23-4d96-a50f-fa050fcb2425",
   "metadata": {},
   "outputs": [],
   "source": []
  }
 ],
 "metadata": {
  "kernelspec": {
   "display_name": "Python 3 (ipykernel)",
   "language": "python",
   "name": "python3"
  },
  "language_info": {
   "codemirror_mode": {
    "name": "ipython",
    "version": 3
   },
   "file_extension": ".py",
   "mimetype": "text/x-python",
   "name": "python",
   "nbconvert_exporter": "python",
   "pygments_lexer": "ipython3",
   "version": "3.9.15"
  }
 },
 "nbformat": 4,
 "nbformat_minor": 5
}
